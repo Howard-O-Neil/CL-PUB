{
 "cells": [
  {
   "cell_type": "code",
   "execution_count": 1,
   "id": "d0348156",
   "metadata": {},
   "outputs": [],
   "source": [
    "import tensorflow_core as tf\n",
    "from matplotlib import pyplot as plt\n",
    "import numpy as np\n",
    "import sys\n",
    "\n",
    "# tf.enable_eager_execution()"
   ]
  },
  {
   "cell_type": "code",
   "execution_count": 6,
   "id": "c0ba7b93-deea-4e3c-a1a1-7c3e4ff18a76",
   "metadata": {},
   "outputs": [],
   "source": [
    "NUM_ITERS = 100\n",
    "\n",
    "class SOM:\n",
    "    def __init__(self, width, height, dim):\n",
    "        self.num_iters = NUM_ITERS\n",
    "        self.width = width\n",
    "        self.height = height\n",
    "        self.dim = dim\n",
    "        self.node_locs = self.get_locs()\n",
    "\n",
    "        nodes = tf.Variable(tf.random_normal([width * height, dim]))\n",
    "        self.nodes = nodes\n",
    "\n",
    "        x = tf.placeholder(tf.float32, [dim])\n",
    "        iter = tf.placeholder(tf.float32)\n",
    "\n",
    "        self.x = x\n",
    "        self.iter = iter\n",
    "        bmu_loc = self.get_bmu_loc(x)\n",
    "        self.propagate_nodes = self.get_propagation(bmu_loc, x, iter)\n",
    "\n",
    "    def get_propagation(self, bmu_loc, x, iter):\n",
    "        num_nodes = self.width * self.height\n",
    "        \n",
    "        # calculate neural network hyperparameter\n",
    "        def calculate_hyperparameter():\n",
    "            rate = 1.0 - tf.divide(iter, self.num_iters)\n",
    "            return (\n",
    "                rate, rate * 0.5,\n",
    "                rate * tf.to_float(tf.maximum(self.width, self.height)) / 2\n",
    "            )\n",
    "        _, alpha, sigma = calculate_hyperparameter()\n",
    "\n",
    "        # calculate distance from BMUs base on location\n",
    "        expanded_bmu_loc = tf.expand_dims(tf.to_float(bmu_loc), 0) \n",
    "        sqr_dists_from_bmu = tf.reduce_sum(\n",
    "            tf.square(tf.subtract(expanded_bmu_loc, self.node_locs)), 1)\n",
    "\n",
    "        # calculate neighbor factor\n",
    "        neigh_factor = tf.exp(-tf.div(sqr_dists_from_bmu, 2 * tf.square(sigma)))\n",
    "\n",
    "        # update nodes base on neighbor factor\n",
    "        def update_nodes(): \n",
    "            rate = tf.multiply(alpha, neigh_factor)\n",
    "\n",
    "            rate_factor = tf.stack([\n",
    "                tf.tile(tf.slice(rate, [i], [1]),\n",
    "                [self.dim]) for i in range(num_nodes)])\n",
    "            \n",
    "            tf.Print(data=rate_factor)\n",
    "            \n",
    "            nodes_diff = tf.multiply(\n",
    "                rate_factor,\n",
    "                tf.subtract(tf.stack([x for i in range(num_nodes)]), self.nodes))\n",
    "            \n",
    "            update_nodes = tf.add(self.nodes, nodes_diff)\n",
    "            return tf.assign(self.nodes, update_nodes)\n",
    "\n",
    "        return update_nodes()\n",
    "\n",
    "    def get_bmu_loc(self, x):\n",
    "        # expand dims to calculate distance to all neural nodes\n",
    "        expanded_x = tf.expand_dims(x, 0)\n",
    "\n",
    "        # calculate distance by weights\n",
    "        sqr_diff = tf.square(tf.subtract(expanded_x, self.nodes))\n",
    "        dists = tf.reduce_sum(sqr_diff, 1)\n",
    "\n",
    "        # find shortest distance node index\n",
    "        bmu_idx = tf.argmin(dists, 0)\n",
    "\n",
    "        # convert index to 1 dimension location [x, y]\n",
    "        bmu_loc = tf.stack([\n",
    "            tf.mod(bmu_idx, self.width),\n",
    "            tf.div(bmu_idx, self.width) # floor division\n",
    "        ])\n",
    "        return bmu_loc\n",
    "    \n",
    "    # an array of location\n",
    "    # location is a 1 dimension array [x, y]\n",
    "    def get_locs(self):\n",
    "        locs = [\n",
    "            [x, y]\n",
    "                for y in range(self.height)\n",
    "                for x in range(self.width)\n",
    "        ]\n",
    "        return tf.to_float(tf.convert_to_tensor(locs))\n",
    "\n",
    "    def train(self, data):\n",
    "        sess = tf.Session()\n",
    "        init = (tf.global_variables_initializer(), tf.local_variables_initializer())\n",
    "        sess.run(init)\n",
    "\n",
    "        for i in range(self.num_iters):\n",
    "            for data_x in data:\n",
    "                sess.run(self.propagate_nodes, feed_dict={self.x: data_x, self.iter: i})\n",
    "\n",
    "        # both output grid will do, just output different cluster order\n",
    "        centroid_grid1 = [[] for i in range(self.width)] # output 2D grid base on width\n",
    "        centroid_grid2 = [[] for i in range(self.height)] # output 2D grid base on height\n",
    "\n",
    "        self.node_val = list(sess.run(self.nodes))\n",
    "        self.locs_val = list(sess.run(self.node_locs))\n",
    "        \n",
    "        for i, l in enumerate(self.locs_val):\n",
    "            centroid_grid1[int(l[0])].append(self.node_val[i])\n",
    "            centroid_grid2[int(l[1])].append(self.node_val[i])\n",
    "        \n",
    "        self.centroid_grid = (centroid_grid1, centroid_grid2)\n"
   ]
  },
  {
   "cell_type": "code",
   "execution_count": 7,
   "id": "08ebba33-187d-4e90-b52b-fcc408bd782c",
   "metadata": {},
   "outputs": [
    {
     "ename": "TypeError",
     "evalue": "Print() missing 1 required positional argument: 'input_'",
     "output_type": "error",
     "traceback": [
      "\u001b[0;31m---------------------------------------------------------------------------\u001b[0m",
      "\u001b[0;31mTypeError\u001b[0m                                 Traceback (most recent call last)",
      "\u001b[0;32m<ipython-input-7-117deabaaf99>\u001b[0m in \u001b[0;36m<module>\u001b[0;34m\u001b[0m\n\u001b[1;32m     11\u001b[0m     [1., 1., 0.]])\n\u001b[1;32m     12\u001b[0m \u001b[0;34m\u001b[0m\u001b[0m\n\u001b[0;32m---> 13\u001b[0;31m \u001b[0msom\u001b[0m \u001b[0;34m=\u001b[0m \u001b[0mSOM\u001b[0m\u001b[0;34m(\u001b[0m\u001b[0;36m4\u001b[0m\u001b[0;34m,\u001b[0m \u001b[0;36m4\u001b[0m\u001b[0;34m,\u001b[0m \u001b[0;36m3\u001b[0m\u001b[0;34m)\u001b[0m\u001b[0;34m\u001b[0m\u001b[0;34m\u001b[0m\u001b[0m\n\u001b[0m\u001b[1;32m     14\u001b[0m \u001b[0msom\u001b[0m\u001b[0;34m.\u001b[0m\u001b[0mtrain\u001b[0m\u001b[0;34m(\u001b[0m\u001b[0mcolors\u001b[0m\u001b[0;34m)\u001b[0m\u001b[0;34m\u001b[0m\u001b[0;34m\u001b[0m\u001b[0m\n\u001b[1;32m     15\u001b[0m \u001b[0;34m\u001b[0m\u001b[0m\n",
      "\u001b[0;32m<ipython-input-6-b4fe41554495>\u001b[0m in \u001b[0;36m__init__\u001b[0;34m(self, width, height, dim)\u001b[0m\n\u001b[1;32m     18\u001b[0m         \u001b[0mself\u001b[0m\u001b[0;34m.\u001b[0m\u001b[0miter\u001b[0m \u001b[0;34m=\u001b[0m \u001b[0miter\u001b[0m\u001b[0;34m\u001b[0m\u001b[0;34m\u001b[0m\u001b[0m\n\u001b[1;32m     19\u001b[0m         \u001b[0mbmu_loc\u001b[0m \u001b[0;34m=\u001b[0m \u001b[0mself\u001b[0m\u001b[0;34m.\u001b[0m\u001b[0mget_bmu_loc\u001b[0m\u001b[0;34m(\u001b[0m\u001b[0mx\u001b[0m\u001b[0;34m)\u001b[0m\u001b[0;34m\u001b[0m\u001b[0;34m\u001b[0m\u001b[0m\n\u001b[0;32m---> 20\u001b[0;31m         \u001b[0mself\u001b[0m\u001b[0;34m.\u001b[0m\u001b[0mpropagate_nodes\u001b[0m \u001b[0;34m=\u001b[0m \u001b[0mself\u001b[0m\u001b[0;34m.\u001b[0m\u001b[0mget_propagation\u001b[0m\u001b[0;34m(\u001b[0m\u001b[0mbmu_loc\u001b[0m\u001b[0;34m,\u001b[0m \u001b[0mx\u001b[0m\u001b[0;34m,\u001b[0m \u001b[0miter\u001b[0m\u001b[0;34m)\u001b[0m\u001b[0;34m\u001b[0m\u001b[0;34m\u001b[0m\u001b[0m\n\u001b[0m\u001b[1;32m     21\u001b[0m \u001b[0;34m\u001b[0m\u001b[0m\n\u001b[1;32m     22\u001b[0m     \u001b[0;32mdef\u001b[0m \u001b[0mget_propagation\u001b[0m\u001b[0;34m(\u001b[0m\u001b[0mself\u001b[0m\u001b[0;34m,\u001b[0m \u001b[0mbmu_loc\u001b[0m\u001b[0;34m,\u001b[0m \u001b[0mx\u001b[0m\u001b[0;34m,\u001b[0m \u001b[0miter\u001b[0m\u001b[0;34m)\u001b[0m\u001b[0;34m:\u001b[0m\u001b[0;34m\u001b[0m\u001b[0;34m\u001b[0m\u001b[0m\n",
      "\u001b[0;32m<ipython-input-6-b4fe41554495>\u001b[0m in \u001b[0;36mget_propagation\u001b[0;34m(self, bmu_loc, x, iter)\u001b[0m\n\u001b[1;32m     57\u001b[0m             \u001b[0;32mreturn\u001b[0m \u001b[0mtf\u001b[0m\u001b[0;34m.\u001b[0m\u001b[0massign\u001b[0m\u001b[0;34m(\u001b[0m\u001b[0mself\u001b[0m\u001b[0;34m.\u001b[0m\u001b[0mnodes\u001b[0m\u001b[0;34m,\u001b[0m \u001b[0mupdate_nodes\u001b[0m\u001b[0;34m)\u001b[0m\u001b[0;34m\u001b[0m\u001b[0;34m\u001b[0m\u001b[0m\n\u001b[1;32m     58\u001b[0m \u001b[0;34m\u001b[0m\u001b[0m\n\u001b[0;32m---> 59\u001b[0;31m         \u001b[0;32mreturn\u001b[0m \u001b[0mupdate_nodes\u001b[0m\u001b[0;34m(\u001b[0m\u001b[0;34m)\u001b[0m\u001b[0;34m\u001b[0m\u001b[0;34m\u001b[0m\u001b[0m\n\u001b[0m\u001b[1;32m     60\u001b[0m \u001b[0;34m\u001b[0m\u001b[0m\n\u001b[1;32m     61\u001b[0m     \u001b[0;32mdef\u001b[0m \u001b[0mget_bmu_loc\u001b[0m\u001b[0;34m(\u001b[0m\u001b[0mself\u001b[0m\u001b[0;34m,\u001b[0m \u001b[0mx\u001b[0m\u001b[0;34m)\u001b[0m\u001b[0;34m:\u001b[0m\u001b[0;34m\u001b[0m\u001b[0;34m\u001b[0m\u001b[0m\n",
      "\u001b[0;32m<ipython-input-6-b4fe41554495>\u001b[0m in \u001b[0;36mupdate_nodes\u001b[0;34m()\u001b[0m\n\u001b[1;32m     48\u001b[0m                 [self.dim]) for i in range(num_nodes)])\n\u001b[1;32m     49\u001b[0m \u001b[0;34m\u001b[0m\u001b[0m\n\u001b[0;32m---> 50\u001b[0;31m             \u001b[0mtf\u001b[0m\u001b[0;34m.\u001b[0m\u001b[0mPrint\u001b[0m\u001b[0;34m(\u001b[0m\u001b[0mdata\u001b[0m\u001b[0;34m=\u001b[0m\u001b[0mrate_factor\u001b[0m\u001b[0;34m)\u001b[0m\u001b[0;34m\u001b[0m\u001b[0;34m\u001b[0m\u001b[0m\n\u001b[0m\u001b[1;32m     51\u001b[0m \u001b[0;34m\u001b[0m\u001b[0m\n\u001b[1;32m     52\u001b[0m             nodes_diff = tf.multiply(\n",
      "\u001b[0;32m/usr/local/lib/python3.6/dist-packages/tensorflow_core/python/util/deprecation.py\u001b[0m in \u001b[0;36mnew_func\u001b[0;34m(*args, **kwargs)\u001b[0m\n\u001b[1;32m    322\u001b[0m               \u001b[0;34m'in a future version'\u001b[0m \u001b[0;32mif\u001b[0m \u001b[0mdate\u001b[0m \u001b[0;32mis\u001b[0m \u001b[0;32mNone\u001b[0m \u001b[0;32melse\u001b[0m \u001b[0;34m(\u001b[0m\u001b[0;34m'after %s'\u001b[0m \u001b[0;34m%\u001b[0m \u001b[0mdate\u001b[0m\u001b[0;34m)\u001b[0m\u001b[0;34m,\u001b[0m\u001b[0;34m\u001b[0m\u001b[0;34m\u001b[0m\u001b[0m\n\u001b[1;32m    323\u001b[0m               instructions)\n\u001b[0;32m--> 324\u001b[0;31m       \u001b[0;32mreturn\u001b[0m \u001b[0mfunc\u001b[0m\u001b[0;34m(\u001b[0m\u001b[0;34m*\u001b[0m\u001b[0margs\u001b[0m\u001b[0;34m,\u001b[0m \u001b[0;34m**\u001b[0m\u001b[0mkwargs\u001b[0m\u001b[0;34m)\u001b[0m\u001b[0;34m\u001b[0m\u001b[0;34m\u001b[0m\u001b[0m\n\u001b[0m\u001b[1;32m    325\u001b[0m     return tf_decorator.make_decorator(\n\u001b[1;32m    326\u001b[0m         \u001b[0mfunc\u001b[0m\u001b[0;34m,\u001b[0m \u001b[0mnew_func\u001b[0m\u001b[0;34m,\u001b[0m \u001b[0;34m'deprecated'\u001b[0m\u001b[0;34m,\u001b[0m\u001b[0;34m\u001b[0m\u001b[0;34m\u001b[0m\u001b[0m\n",
      "\u001b[0;31mTypeError\u001b[0m: Print() missing 1 required positional argument: 'input_'"
     ]
    }
   ],
   "source": [
    "colors = np.array(\n",
    "    [[0., 0., 1.],\n",
    "    [0., 0., 0.95],\n",
    "    [0., 0.05, 1.],\n",
    "    [0., 1., 0.],\n",
    "    [0., 0.95, 0.],\n",
    "    [0., 1, 0.05],\n",
    "    [1., 0., 0.],\n",
    "    [1., 0.05, 0.],\n",
    "    [1., 0., 0.05],\n",
    "    [1., 1., 0.]])\n",
    "\n",
    "som = SOM(4, 4, 3)\n",
    "som.train(colors)\n",
    "\n",
    "# plot data \n",
    "centroid_grid1, centroid_grid2 = som.centroid_grid"
   ]
  },
  {
   "cell_type": "code",
   "execution_count": 5,
   "id": "73d79a6b-32e1-4a62-a7cc-29d11ef0d56b",
   "metadata": {},
   "outputs": [
    {
     "data": {
      "image/png": "[encoded data removed]",
      "text/plain": [
       "<Figure size 432x288 with 1 Axes>"
      ]
     },
     "metadata": {
      "needs_background": "light"
     },
     "output_type": "display_data"
    }
   ],
   "source": [
    "# grid base on width\n",
    "plt.imshow(centroid_grid1)\n",
    "plt.show()"
   ]
  },
  {
   "cell_type": "code",
   "execution_count": 6,
   "id": "d02186f3-5798-4e89-a24d-e3b3906bb907",
   "metadata": {},
   "outputs": [
    {
     "data": {
      "image/png": "[encoded data removed]",
      "text/plain": [
       "<Figure size 432x288 with 1 Axes>"
      ]
     },
     "metadata": {
      "needs_background": "light"
     },
     "output_type": "display_data"
    }
   ],
   "source": [
    "# grid base on height\n",
    "plt.imshow(centroid_grid2)\n",
    "plt.show()"
   ]
  }
 ],
 "metadata": {
  "kernelspec": {
   "display_name": "Python 3",
   "language": "python",
   "name": "python3"
  },
  "language_info": {
   "codemirror_mode": {
    "name": "ipython",
    "version": 3
   },
   "file_extension": ".py",
   "mimetype": "text/x-python",
   "name": "python",
   "nbconvert_exporter": "python",
   "pygments_lexer": "ipython3",
   "version": "3.6.9"
  }
 },
 "nbformat": 4,
 "nbformat_minor": 5
}
