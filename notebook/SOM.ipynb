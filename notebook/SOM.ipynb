{
 "cells": [
  {
   "cell_type": "code",
   "execution_count": 8,
   "id": "d0348156",
   "metadata": {},
   "outputs": [],
   "source": [
    "import tensorflow_core as tf\n",
    "from matplotlib import pyplot as plt\n",
    "import numpy as np"
   ]
  },
  {
   "cell_type": "code",
   "execution_count": 18,
   "id": "c0ba7b93-deea-4e3c-a1a1-7c3e4ff18a76",
   "metadata": {},
   "outputs": [],
   "source": [
    "NUM_ITERS = 100\n",
    "\n",
    "class SOM:\n",
    "    def __init__(self, width, height, dim):\n",
    "        self.num_iters = NUM_ITERS\n",
    "        self.width = width\n",
    "        self.height = height\n",
    "        self.dim = dim\n",
    "        self.node_locs = self.get_locs()\n",
    "\n",
    "        nodes = tf.Variable(tf.random_normal([width * height, dim]))\n",
    "        self.nodes = nodes\n",
    "\n",
    "        x = tf.placeholder(tf.float32, [dim])\n",
    "        iter = tf.placeholder(tf.float32)\n",
    "\n",
    "        self.x = x\n",
    "        self.iter = iter\n",
    "        bmu_loc = self.get_bmu_loc(x)\n",
    "        self.propagate_nodes = self.get_propagation(bmu_loc, x, iter)\n",
    "\n",
    "    def get_propagation(self, bmu_loc, x, iter):\n",
    "        num_nodes = self.width * self.height\n",
    "\n",
    "        # calculate neural network hyperparameter\n",
    "        def calculate_hyperparameter():\n",
    "            rate = 1.0 - tf.divide(iter, self.num_iters)\n",
    "            return (\n",
    "                rate, rate * 0.5,\n",
    "                rate * tf.to_float(tf.maximum(self.width, self.height)) / 2\n",
    "            )\n",
    "        _, alpha, sigma = calculate_hyperparameter()\n",
    "\n",
    "        # calculate distance from BMUs base on location\n",
    "        expanded_bmu_loc = tf.expand_dims(tf.to_float(bmu_loc), 0) \n",
    "        sqr_dists_from_bmu = tf.reduce_sum(\n",
    "            tf.square(tf.subtract(expanded_bmu_loc, self.node_locs)), 1)\n",
    "\n",
    "        # calculate neighbor factor\n",
    "        neigh_factor = tf.exp(-tf.div(sqr_dists_from_bmu, 2 * tf.square(sigma)))\n",
    "\n",
    "        # update nodes base on neighbor factor\n",
    "        def update_nodes(): \n",
    "            rate = tf.multiply(alpha, neigh_factor)\n",
    "\n",
    "            rate_factor = tf.stack([\n",
    "                tf.tile(tf.slice(rate, [i], [1]),\n",
    "                [self.dim]) for i in range(num_nodes)])\n",
    "            \n",
    "            nodes_diff = tf.multiply(\n",
    "                rate_factor,\n",
    "                tf.subtract(tf.stack([x for i in range(num_nodes)]), self.nodes))\n",
    "            \n",
    "            update_nodes = tf.add(self.nodes, nodes_diff)\n",
    "            return tf.assign(self.nodes, update_nodes)\n",
    "\n",
    "        return update_nodes()\n",
    "\n",
    "    def get_bmu_loc(self, x):\n",
    "        # expand dims to calculate distance to all neural nodes\n",
    "        expanded_x = tf.expand_dims(x, 0)\n",
    "\n",
    "        # calculate distance by weights\n",
    "        sqr_diff = tf.square(tf.subtract(expanded_x, self.nodes))\n",
    "        dists = tf.reduce_sum(sqr_diff, 1)\n",
    "\n",
    "        # find shortest distance node index\n",
    "        bmu_idx = tf.argmin(dists, 0)\n",
    "\n",
    "        # convert index to 1 dimension location [x, y]\n",
    "        bmu_loc = tf.stack([\n",
    "            tf.mod(bmu_idx, self.width),\n",
    "            tf.div(bmu_idx, self.width) # floor division\n",
    "        ])\n",
    "        return bmu_loc\n",
    "    \n",
    "    # an array of location\n",
    "    # location is a 1 dimension array [x, y]\n",
    "    def get_locs(self):\n",
    "        locs = [\n",
    "            [x, y]\n",
    "                for y in range(self.height)\n",
    "                for x in range(self.width)\n",
    "        ]\n",
    "        return tf.to_float(tf.convert_to_tensor(locs))\n",
    "\n",
    "    def train(self, data):\n",
    "        sess = tf.Session()\n",
    "        init = (tf.global_variables_initializer(), tf.local_variables_initializer())\n",
    "        sess.run(init)\n",
    "\n",
    "        for i in range(self.num_iters):\n",
    "            for data_x in data:\n",
    "                sess.run(self.propagate_nodes, feed_dict={self.x: data_x, self.iter: i})\n",
    "\n",
    "        # both output grid will do, just output different cluster order\n",
    "        centroid_grid1 = [[] for i in range(self.width)] # output 2D grid base on width\n",
    "        centroid_grid2 = [[] for i in range(self.height)] # output 2D grid base on height\n",
    "\n",
    "        self.node_val = list(sess.run(self.nodes))\n",
    "        self.locs_val = list(sess.run(self.node_locs))\n",
    "        \n",
    "        for i, l in enumerate(self.locs_val):\n",
    "            centroid_grid1[int(l[0])].append(self.node_val[i])\n",
    "            centroid_grid2[int(l[1])].append(self.node_val[i])\n",
    "        \n",
    "        self.centroid_grid = (centroid_grid1, centroid_grid2)\n"
   ]
  },
  {
   "cell_type": "code",
   "execution_count": 20,
   "id": "08ebba33-187d-4e90-b52b-fcc408bd782c",
   "metadata": {},
   "outputs": [],
   "source": [
    "colors = np.array(\n",
    "    [[0., 0., 1.],\n",
    "    [0., 0., 0.95],\n",
    "    [0., 0.05, 1.],\n",
    "    [0., 1., 0.],\n",
    "    [0., 0.95, 0.],\n",
    "    [0., 1, 0.05],\n",
    "    [1., 0., 0.],\n",
    "    [1., 0.05, 0.],\n",
    "    [1., 0., 0.05],\n",
    "    [1., 1., 0.]])\n",
    "\n",
    "som = SOM(4, 4, 3)\n",
    "som.train(colors)\n",
    "\n",
    "# plot data \n",
    "print(som.centroid_grid)\n",
    "centroid_grid1, centroid_grid2 = som.centroid_grid"
   ]
  },
  {
   "cell_type": "code",
   "execution_count": 20,
   "id": "73d79a6b-32e1-4a62-a7cc-29d11ef0d56b",
   "metadata": {},
   "outputs": [],
   "source": [
    "# grid base on width\n",
    "plt.imshow(centroid_grid1)\n",
    "plt.show()"
   ]
  },
  {
   "cell_type": "code",
   "execution_count": 20,
   "id": "d02186f3-5798-4e89-a24d-e3b3906bb907",
   "metadata": {},
   "outputs": [
    {
     "name": "stdout",
     "output_type": "stream",
     "text": [
      "([[array([6.9877160e-08, 9.7467321e-01, 8.8956574e-04], dtype=float32), array([0.00236324, 0.9964552 , 0.04320043], dtype=float32), array([0.786892  , 0.97672963, 0.00636205], dtype=float32), array([9.9985260e-01, 9.9835503e-01, 6.2079575e-06], dtype=float32)], [array([1.8916861e-04, 9.5568144e-01, 4.2132061e-02], dtype=float32), array([0.05315953, 0.89801913, 0.07873272], dtype=float32), array([0.8579128 , 0.56048375, 0.02175974], dtype=float32), array([0.99891895, 0.5211626 , 0.00130991], dtype=float32)], [array([3.6656982e-04, 5.2886829e-02, 9.5118940e-01], dtype=float32), array([0.09454968, 0.08338124, 0.8251332 ], dtype=float32), array([0.9531965 , 0.04707023, 0.05168773], dtype=float32), array([0.9999909 , 0.04645712, 0.00228287], dtype=float32)], [array([1.8173205e-07, 2.5491048e-02, 9.9933052e-01], dtype=float32), array([0.00466425, 0.00342814, 0.95194113], dtype=float32), array([0.8850983 , 0.00638045, 0.13044842], dtype=float32), array([9.9999452e-01, 4.0020363e-04, 2.5621386e-02], dtype=float32)]], [[array([6.9877160e-08, 9.7467321e-01, 8.8956574e-04], dtype=float32), array([1.8916861e-04, 9.5568144e-01, 4.2132061e-02], dtype=float32), array([3.6656982e-04, 5.2886829e-02, 9.5118940e-01], dtype=float32), array([1.8173205e-07, 2.5491048e-02, 9.9933052e-01], dtype=float32)], [array([0.00236324, 0.9964552 , 0.04320043], dtype=float32), array([0.05315953, 0.89801913, 0.07873272], dtype=float32), array([0.09454968, 0.08338124, 0.8251332 ], dtype=float32), array([0.00466425, 0.00342814, 0.95194113], dtype=float32)], [array([0.786892  , 0.97672963, 0.00636205], dtype=float32), array([0.8579128 , 0.56048375, 0.02175974], dtype=float32), array([0.9531965 , 0.04707023, 0.05168773], dtype=float32), array([0.8850983 , 0.00638045, 0.13044842], dtype=float32)], [array([9.9985260e-01, 9.9835503e-01, 6.2079575e-06], dtype=float32), array([0.99891895, 0.5211626 , 0.00130991], dtype=float32), array([0.9999909 , 0.04645712, 0.00228287], dtype=float32), array([9.9999452e-01, 4.0020363e-04, 2.5621386e-02], dtype=float32)]])\n"
     ]
    },
    {
     "data": {
      "image/png": "[encoded data removed]",
      "text/plain": [
       "<Figure size 432x288 with 1 Axes>"
      ]
     },
     "metadata": {
      "needs_background": "light"
     },
     "output_type": "display_data"
    },
    {
     "data": {
      "image/png": "[encoded data removed]",
      "text/plain": [
       "<Figure size 432x288 with 1 Axes>"
      ]
     },
     "metadata": {
      "needs_background": "light"
     },
     "output_type": "display_data"
    }
   ],
   "source": [
    "# grid base on height\n",
    "plt.imshow(centroid_grid2)\n",
    "plt.show()"
   ]
  }
 ],
 "metadata": {
  "kernelspec": {
   "display_name": "Python 3",
   "language": "python",
   "name": "python3"
  },
  "language_info": {
   "codemirror_mode": {
    "name": "ipython",
    "version": 3
   },
   "file_extension": ".py",
   "mimetype": "text/x-python",
   "name": "python",
   "nbconvert_exporter": "python",
   "pygments_lexer": "ipython3",
   "version": "3.6.9"
  }
 },
 "nbformat": 4,
 "nbformat_minor": 5
}
