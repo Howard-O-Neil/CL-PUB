{
 "cells": [
  {
   "cell_type": "code",
   "execution_count": 1,
   "id": "935e94e0-924a-4b50-9336-82025e983692",
   "metadata": {},
   "outputs": [],
   "source": [
    "import tensorflow_core as tf\n",
    "import numpy as np\n",
    "import matplotlib.pyplot as plt"
   ]
  },
  {
   "cell_type": "code",
   "execution_count": 2,
   "id": "e2a74f3a-ed8a-4c1e-804b-40f5be67b124",
   "metadata": {},
   "outputs": [
    {
     "data": {
      "image/png": "[encoded data removed]",
      "text/plain": [
       "<Figure size 432x288 with 1 Axes>"
      ]
     },
     "metadata": {
      "needs_background": "light"
     },
     "output_type": "display_data"
    }
   ],
   "source": [
    "learning_rate = 0.1\n",
    "training_epochs = 2000\n",
    "\n",
    "def sigmoid(x): # helper  calculate sigmoid\n",
    "    return 1. / (1. + np.exp(-x))\n",
    "\n",
    "# 1st gang, 1st cluster, around (3, 2) \n",
    "x1_label1 = np.random.normal(3, 1, 1000) # latitude\n",
    "x2_label1 = np.random.normal(2, 1, 1000) # longitude\n",
    "\n",
    "# 2nd gang, 2nd cluster, around (7, 6) \n",
    "x1_label2 = np.random.normal(7, 1, 1000) # latitude\n",
    "x2_label2 = np.random.normal(6, 1, 1000) # longitude\n",
    "\n",
    "x1s = np.append(x1_label1, x1_label2)\n",
    "x2s = np.append(x2_label1, x2_label2)\n",
    "\n",
    "# define classification\n",
    "# label1 = 0\n",
    "# label2 = 1\n",
    "ys = np.array([0.] * len(x1_label1) + [1.] * len(x1_label2))\n",
    "\n",
    "# show cluster\n",
    "plt.plot(x1_label1, x2_label1, 'g+')\n",
    "plt.plot(x1_label2, x2_label2, 'b+')\n",
    "plt.show()"
   ]
  },
  {
   "cell_type": "code",
   "execution_count": 3,
   "id": "cc715c5c-7dc7-4b3b-b312-bc478c9ed1c5",
   "metadata": {},
   "outputs": [
    {
     "name": "stdout",
     "output_type": "stream",
     "text": [
      "WARNING:tensorflow:From <ipython-input-3-8f4be0b9df58>:9: div (from tensorflow.python.ops.math_ops) is deprecated and will be removed in a future version.\n",
      "Instructions for updating:\n",
      "Deprecated in favor of operator or tf.math.divide.\n",
      "===== DONE TRAINING =====\n"
     ]
    }
   ],
   "source": [
    "X1 = tf.placeholder(tf.float32, shape=(None,), name=\"x1\")\n",
    "X2 = tf.placeholder(tf.float32, shape=(None,), name=\"x2\")\n",
    "Y = tf.placeholder(tf.float32, shape=(None,), name=\"y\")\n",
    "w = tf.Variable([0., 0., 0.], name=\"w\", trainable=True)\n",
    "\n",
    "def model(X2, X1, w):  # sigmoid model\n",
    "    return tf.div(\n",
    "        1.,\n",
    "        tf.add(1., tf.exp(-1 * (w[2] * X2 + w[1] * X1 + w[0])),\n",
    "    ))\n",
    "\n",
    "y_model = model(X2, X1, w)\n",
    "\n",
    "cost = tf.reduce_mean(-Y * tf.log(y_model) - (1 - Y) * tf.log(1 - y_model))\n",
    "train_op = tf.train.GradientDescentOptimizer(learning_rate).minimize(cost)\n",
    "\n",
    "sess = tf.Session()\n",
    "init = tf.global_variables_initializer()\n",
    "sess.run(init)\n",
    "\n",
    "prev_err = 0\n",
    "for epoch in range(training_epochs):\n",
    "    err, _ = sess.run([cost, train_op], feed_dict={X1: x1s, X2: x2s, Y: ys})\n",
    "    \n",
    "    if abs(prev_err - err) < 0.0001: \n",
    "        break\n",
    "    prev_err = err\n",
    "\n",
    "w_val = sess.run(w)\n",
    "\n",
    "sess.close()\n",
    "\n",
    "print(\"===== DONE TRAINING =====\")"
   ]
  },
  {
   "cell_type": "code",
   "execution_count": 4,
   "id": "c88d2ef8-640a-4251-9e40-f861ed9280ef",
   "metadata": {},
   "outputs": [
    {
     "name": "stdout",
     "output_type": "stream",
     "text": [
      "Crime probability: 0.6942285826062984\n"
     ]
    }
   ],
   "source": [
    "# problem output\n",
    "print(f\"Crime probability: {sigmoid(4 * w_val[2] + 6 * w_val[1] + w_val[0])}\")"
   ]
  },
  {
   "cell_type": "code",
   "execution_count": 5,
   "id": "a7b84929-c90f-465c-921a-bdc41063ee76",
   "metadata": {},
   "outputs": [
    {
     "data": {
      "image/png": "[encoded data removed]",
      "text/plain": [
       "<Figure size 432x288 with 1 Axes>"
      ]
     },
     "metadata": {
      "needs_background": "light"
     },
     "output_type": "display_data"
    }
   ],
   "source": [
    "# find median graph\n",
    "\n",
    "x1_crime_long_4, x2_crime_long_4 = [], []\n",
    "for x1 in x1s:\n",
    "    for x2 in x2s:\n",
    "        z = sigmoid(x2 * w_val[2] + x1 * w_val[1] + w_val[0])\n",
    "        if (abs(z - 0.5) < 0.01):\n",
    "            x1_crime_long_4.append(x1)\n",
    "            x2_crime_long_4.append(x2)\n",
    "\n",
    "plt.plot(x1_label1, x2_label1, 'g+')\n",
    "plt.plot(x1_label2, x2_label2, 'b+')\n",
    "plt.plot(x1_crime_long_4, x2_crime_long_4, 'r+')\n",
    "plt.savefig('2d_crime.png')"
   ]
  },
  {
   "cell_type": "code",
   "execution_count": 6,
   "id": "89b7bd51-4757-4caf-bee7-0a47b2c7979b",
   "metadata": {},
   "outputs": [
    {
     "data": {
      "text/html": [
       "\n",
       "    <img style=\"float: left;\" \n",
       "        src=\"./2d_crime.png\" width=\"450px\"/>\n"
      ],
      "text/plain": [
       "<IPython.core.display.HTML object>"
      ]
     },
     "execution_count": 6,
     "metadata": {},
     "output_type": "execute_result"
    }
   ],
   "source": [
    "from IPython.display import display, Image, HTML\n",
    "\n",
    "html1 = \"\"\"\n",
    "    <img style=\"float: left;\" \n",
    "        src=\"./2d_crime.png\" width=\"450px\"/>\n",
    "\"\"\"\n",
    "HTML(html1)"
   ]
  }
 ],
 "metadata": {
  "kernelspec": {
   "display_name": "Python 3",
   "language": "python",
   "name": "python3"
  },
  "language_info": {
   "codemirror_mode": {
    "name": "ipython",
    "version": 3
   },
   "file_extension": ".py",
   "mimetype": "text/x-python",
   "name": "python",
   "nbconvert_exporter": "python",
   "pygments_lexer": "ipython3",
   "version": "3.6.9"
  }
 },
 "nbformat": 4,
 "nbformat_minor": 5
}
