{
 "cells": [
  {
   "cell_type": "code",
   "execution_count": 2,
   "id": "525fbbfe-45b0-4848-be34-7eceec9f9faa",
   "metadata": {},
   "outputs": [
    {
     "name": "stdout",
     "output_type": "stream",
     "text": [
      "/home/howard/collaborative-recommender/notebook\n"
     ]
    }
   ],
   "source": [
    "import tensorflow_core as tf\n",
    "import numpy as np\n",
    "from BregmanToolkit.bregman import suite as st\n",
    "import matplotlib.pyplot as plt"
   ]
  },
  {
   "cell_type": "code",
   "execution_count": 4,
   "id": "dca4093d-b6cc-426c-a934-55593f78188a",
   "metadata": {},
   "outputs": [],
   "source": [
    "filenames = tf.train.match_filenames_once(\n",
    "    \"/home/howard/collaborative-recommender/data/TalkingMachinesPodcast.wav\"\n",
    ")\n",
    "count_num_files = tf.size(filenames)\n",
    "filename_queue = tf.train.string_input_producer(filenames)\n",
    "reader = tf.WholeFileReader()\n",
    "filename, file_contents = reader.read(filename_queue)"
   ]
  },
  {
   "cell_type": "code",
   "execution_count": 5,
   "id": "c0da5051-888b-40b9-8b05-a64daf6d0940",
   "metadata": {},
   "outputs": [
    {
     "data": {
      "text/plain": [
       "(None, None)"
      ]
     },
     "execution_count": 5,
     "metadata": {},
     "output_type": "execute_result"
    }
   ],
   "source": [
    "sess = tf.Session()\n",
    "init = (tf.global_variables_initializer(), tf.local_variables_initializer())\n",
    "sess.run(init)"
   ]
  },
  {
   "cell_type": "code",
   "execution_count": 6,
   "id": "a15e9a60-01b4-4a5f-b213-9f841de99f74",
   "metadata": {},
   "outputs": [],
   "source": [
    "coord = tf.train.Coordinator()\n",
    "threads = tf.train.start_queue_runners(coord=coord, sess=sess)"
   ]
  },
  {
   "cell_type": "code",
   "execution_count": 8,
   "id": "b6819b1d-619b-4858-8433-b3e18577d1a3",
   "metadata": {},
   "outputs": [],
   "source": [
    "def get_chromagram(sess):\n",
    "    F = st.Chromagram(\n",
    "        sess.run(filename).decode(\"utf-8\"), nfft=16384, wfft=8192, nhop=2205\n",
    "    )\n",
    "    return F.X"
   ]
  },
  {
   "cell_type": "code",
   "execution_count": 9,
   "id": "18691075-c57d-4601-b38a-05cb507a4735",
   "metadata": {},
   "outputs": [],
   "source": [
    "def extract_feature_vector(sess, chroma_data):\n",
    "    chroma = tf.placeholder(tf.float32)\n",
    "    max_freqs = tf.argmax(chroma, 0)  # first division\n",
    "\n",
    "    num_features, num_samples = np.shape(chroma_data)\n",
    "    freq_vals = sess.run(max_freqs, feed_dict={chroma: chroma_data})\n",
    "    hist, _ = np.histogram(freq_vals, bins=[0, 1, 2, 3, 4, 5, 6, 7, 8, 9, 10, 11, 12])\n",
    "    return hist.astype(float) / num_samples"
   ]
  },
  {
   "cell_type": "code",
   "execution_count": 10,
   "id": "8f33ef5a-f282-4cc3-b3dd-d1d50997533e",
   "metadata": {},
   "outputs": [],
   "source": [
    "k = 2\n",
    "max_iterations = 100\n",
    "part_size = 20"
   ]
  },
  {
   "cell_type": "code",
   "execution_count": 11,
   "id": "d5935627-7f8c-4933-9310-98ad295fae83",
   "metadata": {},
   "outputs": [],
   "source": [
    "def get_dataset(sess):\n",
    "    num_files = sess.run(count_num_files)\n",
    "    coord = tf.train.Coordinator()\n",
    "    threads = tf.train.start_queue_runners(sess=sess, coord=coord)\n",
    "\n",
    "    xs = []\n",
    "    for _ in range(num_files):\n",
    "        chroma_data = get_chromagram(sess)\n",
    "\n",
    "        for i in range(int(chroma_data.shape[1] / part_size)):\n",
    "            chroma_part = chroma_data[:, i * part_size : (i + 1) * part_size]\n",
    "            x = np.matrix(extract_feature_vector(sess, chroma_part))\n",
    "\n",
    "            if len(xs) == 0:\n",
    "                xs = x\n",
    "            else:\n",
    "                xs = np.vstack((xs, x))\n",
    "\n",
    "    coord.request_stop()\n",
    "    coord.join()\n",
    "\n",
    "    return xs"
   ]
  },
  {
   "cell_type": "code",
   "execution_count": 12,
   "id": "00dadd5f-2737-47f2-bab7-428cbb9821bc",
   "metadata": {},
   "outputs": [],
   "source": [
    "def initial_centroids(X, k):\n",
    "    # assign centroids label\n",
    "    # 1st centroids -> cluster 0\n",
    "    # 2nd centroids -> cluster 1\n",
    "    return X[0:k, :]"
   ]
  },
  {
   "cell_type": "code",
   "execution_count": 13,
   "id": "87ecf9c8-44be-456b-bd2a-4cba91b0da8c",
   "metadata": {},
   "outputs": [],
   "source": [
    "def assign_cluster(X, centroids):\n",
    "    expanded_vectors = tf.expand_dims(X, 0)\n",
    "    expanded_centroids = tf.expand_dims(centroids, 1)\n",
    "\n",
    "    # calculate distance from each vector to each centroids\n",
    "    distances = tf.reduce_sum(\n",
    "        tf.square(tf.subtract(expanded_vectors, expanded_centroids)), 2\n",
    "    )\n",
    "\n",
    "    return tf.argmin(distances, 0)"
   ]
  },
  {
   "cell_type": "code",
   "execution_count": 14,
   "id": "dac528c3-1d31-4f6b-a8ff-387e63213f76",
   "metadata": {},
   "outputs": [],
   "source": [
    "def recenter_centroids(X, Y, k):\n",
    "    sums = tf.unsorted_segment_sum(X, Y, k)\n",
    "    counts = tf.unsorted_segment_sum(tf.ones_like(X), Y, k)\n",
    "\n",
    "    return sums / counts"
   ]
  },
  {
   "cell_type": "code",
   "execution_count": 15,
   "id": "61efa024-9eea-42f7-9c57-0721a8c564b0",
   "metadata": {},
   "outputs": [
    {
     "name": "stdout",
     "output_type": "stream",
     "text": [
      "[[0.04230769 0.04615385 0.09230769 0.13076923 0.21923077 0.23846154\n",
      "  0.07307692 0.03846154 0.01153846 0.03461538 0.06923077 0.00384615]\n",
      " [0.03333333 0.05833333 0.03611111 0.05555556 0.06111111 0.11666667\n",
      "  0.23611111 0.10833333 0.04444444 0.075      0.11388889 0.06111111]]\n"
     ]
    }
   ],
   "source": [
    "X = get_dataset(sess)\n",
    "\n",
    "centroids = initial_centroids(X, k)\n",
    "\n",
    "i, coveraged = 0, False\n",
    "while not coveraged and i < max_iterations:\n",
    "    i += 1\n",
    "    Y = sess.run(assign_cluster(X, centroids))\n",
    "    centroids = sess.run(recenter_centroids(X, Y, k))\n",
    "print(centroids)"
   ]
  },
  {
   "cell_type": "code",
   "execution_count": 69,
   "id": "5b24d5c6-7d5f-4daa-a5d8-2749f3bd5218",
   "metadata": {},
   "outputs": [
    {
     "name": "stdout",
     "output_type": "stream",
     "text": [
      "Number of segment = 31\n",
      "(31, 12)\n",
      "0.0m, 0.0s: 0\n",
      "0.0m, 2.0s: 1\n",
      "0.0m, 4.0s: 0\n",
      "0.0m, 6.0s: 1\n",
      "0.0m, 8.0s: 1\n",
      "0.0m, 10.0s: 0\n",
      "0.0m, 12.0s: 1\n",
      "0.0m, 14.0s: 1\n",
      "0.0m, 16.0s: 0\n",
      "0.0m, 18.0s: 0\n",
      "0.0m, 20.0s: 1\n",
      "0.0m, 22.0s: 1\n",
      "0.0m, 24.0s: 1\n",
      "0.0m, 26.0s: 0\n",
      "0.0m, 28.0s: 1\n",
      "0.0m, 30.0s: 1\n",
      "0.0m, 32.0s: 1\n",
      "0.0m, 34.0s: 1\n",
      "0.0m, 36.0s: 0\n",
      "0.0m, 38.0s: 1\n",
      "0.0m, 40.0s: 0\n",
      "0.0m, 42.0s: 1\n",
      "0.0m, 44.0s: 1\n",
      "0.0m, 46.0s: 1\n",
      "0.0m, 48.0s: 0\n",
      "0.0m, 50.0s: 0\n",
      "0.0m, 52.0s: 1\n",
      "0.0m, 54.0s: 0\n",
      "0.0m, 56.0s: 0\n",
      "0.0m, 58.0s: 0\n",
      "1.0m, 0.0s: 1\n"
     ]
    }
   ],
   "source": [
    "segments = sess.run(assign_cluster(X, centroids))\n",
    "print(f\"Number of segment = {len(segments)}\")\n",
    "for i in range(len(segments)):\n",
    "    seconds = (i * part_size) / float(10) # chromagram width = 10 * t(sound length)\n",
    "    min, sec = divmod(seconds, 60)\n",
    "    print(f\"{min}m, {sec}s: {segments[i]}\")"
   ]
  },
  {
   "cell_type": "code",
   "execution_count": 97,
   "id": "6a2c65ed-3bd4-4da4-8cdc-3e65ffec7808",
   "metadata": {},
   "outputs": [
    {
     "data": {
      "image/png": "[encoded data removed]",
      "text/plain": [
       "<Figure size 432x288 with 1 Axes>"
      ]
     },
     "metadata": {
      "needs_background": "light"
     },
     "output_type": "display_data"
    }
   ],
   "source": [
    "start_pitch = 0\n",
    "median_pitch = 6\n",
    "end_pitch = 12\n",
    "\n",
    "pow_grain = 1.45\n",
    "\n",
    "dim2_X = np.hstack(\n",
    "    (\n",
    "        np.sum(np.power(X[:, start_pitch : median_pitch], pow_grain), 1),\n",
    "        np.sum(np.power(X[:, median_pitch : end_pitch], pow_grain), 1),\n",
    "    )\n",
    ")\n",
    "dim2_centroids = np.hstack(\n",
    "    (\n",
    "        np.sum(np.power(centroids[:, start_pitch : median_pitch], pow_grain), 1).reshape((2, 1)),\n",
    "        np.sum(np.power(centroids[:, median_pitch : end_pitch], pow_grain), 1).reshape((2, 1)),\n",
    "    )\n",
    ")\n",
    "\n",
    "plt.scatter(\n",
    "    np.array(dim2_X[:, 0:1].copy().flat),\n",
    "    np.array(dim2_X[:, 1:2].copy().flat),\n",
    "    c='b', marker='o', s=10\n",
    ")\n",
    " \n",
    "# cluster 1 centroid\n",
    "plt.scatter(\n",
    "    np.array(dim2_centroids[0:1, 0:1].copy().flat),\n",
    "    np.array(dim2_centroids[0:1, 1:2].copy().flat),\n",
    "    c='r', marker='+', s=90\n",
    ")\n",
    "# cluster 2 centroid\n",
    "plt.scatter(\n",
    "    np.array(dim2_centroids[1:2, 0:1].copy().flat),\n",
    "    np.array(dim2_centroids[1:2, 1:2].copy().flat),\n",
    "    c='g', marker='+', s=90\n",
    ")\n",
    "\n",
    "segments = sess.run(assign_cluster(X, centroids))\n",
    "cluster_1_x, cluster_1_y = np.array([]), np.array([])\n",
    "cluster_2_x, cluster_2_y = np.array([]), np.array([])\n",
    "\n",
    "for i in range(len(segments)):\n",
    "    plot_x = None\n",
    "    if segments[i] == 0:\n",
    "        plot_x = np.hstack((\n",
    "            np.sum(np.power(X[i, start_pitch:median_pitch], pow_grain), 1),\n",
    "            np.sum(np.power(centroids[segments[i], start_pitch:median_pitch], pow_grain), 0).reshape((1, 1))))\n",
    "        plot_y = np.hstack((\n",
    "            np.sum(np.power(X[i, median_pitch:end_pitch], pow_grain), 1),\n",
    "            np.sum(np.power(centroids[segments[i], median_pitch:end_pitch], pow_grain), 0).reshape((1, 1))))\n",
    "\n",
    "        cluster_1_x = np.append(cluster_1_x, np.array(plot_x.copy().flat))\n",
    "        cluster_1_y = np.append(cluster_1_y, np.array(plot_y.copy().flat))\n",
    "    else:\n",
    "        plot_x = np.hstack((\n",
    "            np.sum(np.power(X[i, start_pitch:median_pitch], pow_grain), 1),\n",
    "            np.sum(np.power(centroids[segments[i], start_pitch:median_pitch], pow_grain), 0).reshape((1, 1))))\n",
    "        plot_y = np.hstack((\n",
    "            np.sum(np.power(X[i, median_pitch:end_pitch], pow_grain), 1),\n",
    "            np.sum(np.power(centroids[segments[i], median_pitch:end_pitch], pow_grain), 0).reshape((1, 1))))\n",
    "        \n",
    "        cluster_2_x = np.append(cluster_2_x, np.array(plot_x.copy().flat))\n",
    "        cluster_2_y = np.append(cluster_2_y, np.array(plot_y.copy().flat))\n",
    "\n",
    "plt.plot(cluster_1_x, cluster_1_y, 'r')\n",
    "plt.plot(cluster_2_x, cluster_2_y, 'g')\n",
    "plt.show()"
   ]
  }
 ],
 "metadata": {
  "kernelspec": {
   "display_name": "Python 3",
   "language": "python",
   "name": "python3"
  },
  "language_info": {
   "codemirror_mode": {
    "name": "ipython",
    "version": 3
   },
   "file_extension": ".py",
   "mimetype": "text/x-python",
   "name": "python",
   "nbconvert_exporter": "python",
   "pygments_lexer": "ipython3",
   "version": "3.6.9"
  }
 },
 "nbformat": 4,
 "nbformat_minor": 5
}
