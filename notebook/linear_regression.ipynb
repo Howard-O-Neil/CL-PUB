{
 "cells": [
  {
   "cell_type": "code",
   "execution_count": 1,
   "id": "ed4af5c9-f6ac-4273-a956-b6b12973f903",
   "metadata": {},
   "outputs": [],
   "source": [
    "import tensorflow_core as tf\n",
    "import numpy as np\n",
    "import matplotlib.pyplot as plt"
   ]
  },
  {
   "cell_type": "code",
   "execution_count": 2,
   "id": "5cad75b1-2027-43df-8aec-55f3cb736be2",
   "metadata": {},
   "outputs": [],
   "source": [
    "def split_dataset(x_dataset, y_dataset, ratio):\n",
    "    arr = np.arange(x_dataset.size)\n",
    "    np.random.shuffle(arr)\n",
    "    num_train = int(ratio * x_dataset.size)\n",
    "    x_train = x_dataset[arr[0:num_train]]\n",
    "    x_test = x_dataset[arr[num_train:x_dataset.size]]\n",
    "    y_train = y_dataset[arr[0:num_train]]\n",
    "    y_test = y_dataset[arr[num_train:x_dataset.size]]\n",
    "    return x_train, x_test, y_train, y_test"
   ]
  },
  {
   "cell_type": "code",
   "execution_count": 3,
   "id": "cf16b258-e888-4558-bf0a-e807986ba7f7",
   "metadata": {},
   "outputs": [],
   "source": [
    "x_label0 = np.random.normal(5, 1, 30)\n",
    "x_label1 = np.random.normal(2, 1, 40)\n",
    "x_dataset = np.append(x_label0, x_label1)\n",
    "\n",
    "y_dataset = \\\n",
    "    np.array([0.] * len(x_label0) \\\n",
    "    + [1.] * len(x_label1))\n",
    "\n",
    "(x_train, x_test, y_train, y_test) = \\\n",
    "    split_dataset(x_dataset, y_dataset, 0.7)"
   ]
  },
  {
   "cell_type": "code",
   "execution_count": 4,
   "id": "22db957e-b82e-478b-930a-628ba49a849f",
   "metadata": {},
   "outputs": [
    {
     "data": {
      "text/plain": [
       "<matplotlib.collections.PathCollection at 0x7f088da4ce10>"
      ]
     },
     "execution_count": 4,
     "metadata": {},
     "output_type": "execute_result"
    },
    {
     "data": {
      "image/png": "[encoded data removed]",
      "text/plain": [
       "<Figure size 432x288 with 1 Axes>"
      ]
     },
     "metadata": {
      "needs_background": "light"
     },
     "output_type": "display_data"
    }
   ],
   "source": [
    "plt.scatter(x_train, y_train)"
   ]
  },
  {
   "cell_type": "code",
   "execution_count": 5,
   "id": "7f5aa816-3cef-4372-8585-b00ab6b88a7a",
   "metadata": {},
   "outputs": [
    {
     "data": {
      "text/plain": [
       "<matplotlib.collections.PathCollection at 0x7f088594f358>"
      ]
     },
     "execution_count": 5,
     "metadata": {},
     "output_type": "execute_result"
    },
    {
     "data": {
      "image/png": "[encoded data removed]",
      "text/plain": [
       "<Figure size 432x288 with 1 Axes>"
      ]
     },
     "metadata": {
      "needs_background": "light"
     },
     "output_type": "display_data"
    }
   ],
   "source": [
    "plt.scatter(x_test, y_test)"
   ]
  },
  {
   "cell_type": "code",
   "execution_count": 6,
   "id": "480c9784-89d5-4cc7-b19e-ca507d7ff3bc",
   "metadata": {},
   "outputs": [],
   "source": [
    "def model(X, w):\n",
    "    return tf.add(tf.multiply(w[1], tf.pow(X, 1)), tf.multiply(w[0], tf.pow(X, 0)))\n",
    "\n",
    "X = tf.placeholder(tf.float32, name=\"x\")\n",
    "Y = tf.placeholder(tf.float32, name=\"y\")\n",
    "reg_lambda = tf.placeholder(tf.float32, name=\"reg\")\n",
    "\n",
    "w = tf.Variable([0.0, 0.0], name=\"parameters\")\n",
    "y_model = model(X, w)\n",
    "\n",
    "learning_rate = 0.001\n",
    "training_epochs = 1000\n",
    "\n",
    "cost = tf.add(\n",
    "    tf.reduce_mean(tf.square(Y - y_model)),\n",
    "    tf.multiply(reg_lambda, tf.reduce_sum(tf.square(w))),\n",
    ")\n",
    "train_op = tf.train.GradientDescentOptimizer(learning_rate).minimize(cost)"
   ]
  },
  {
   "cell_type": "code",
   "execution_count": 7,
   "id": "024653f4-56f2-4221-b2fa-f823a2c2d8a5",
   "metadata": {},
   "outputs": [],
   "source": [
    "min_cost = x_dataset.size\n",
    "final_w = np.array([0.0, 0.0])\n",
    "\n",
    "sess = tf.Session()\n",
    "init = tf.global_variables_initializer()\n",
    "sess.run(init)\n",
    "\n",
    "for lambda_val in np.linspace(0, 1, 100):\n",
    "    for epoch in range(training_epochs):\n",
    "        sess.run(train_op, \\\n",
    "             feed_dict={X: x_train,\\\n",
    "                        Y: y_train,\\\n",
    "                        reg_lambda: lambda_val})\n",
    "        \n",
    "    testing_cost = sess.run(cost,\\\n",
    "            feed_dict={X: x_test,\\\n",
    "                        Y: y_test,\\\n",
    "                        reg_lambda: lambda_val})\n",
    "    if testing_cost <= min_cost:\n",
    "        min_cost = testing_cost\n",
    "        final_w = sess.run(w)\n",
    "\n",
    "    w.assign([0.] * 2) # reset parameters\n",
    "\n",
    "sess.close()"
   ]
  },
  {
   "cell_type": "code",
   "execution_count": 8,
   "id": "5ee5e9af-abf9-4649-818f-814d06759736",
   "metadata": {},
   "outputs": [
    {
     "data": {
      "image/png": "[encoded data removed]",
      "text/plain": [
       "<Figure size 432x288 with 1 Axes>"
      ]
     },
     "metadata": {
      "needs_background": "light"
     },
     "output_type": "display_data"
    }
   ],
   "source": [
    "plt.scatter(x_test, y_test)\n",
    "plt.plot(x_test, x_test * final_w[1] + final_w[0], 'r^')\n",
    "plt.show()"
   ]
  },
  {
   "cell_type": "code",
   "execution_count": 9,
   "id": "d41dcf93-3078-464b-99df-60b0fa40265e",
   "metadata": {},
   "outputs": [
    {
     "name": "stdout",
     "output_type": "stream",
     "text": [
      "Testing accuracy 95.23809523809523 %\n"
     ]
    }
   ],
   "source": [
    "def comparePrediction(y_feed, y_predict):\n",
    "    if y_predict < 0.5: y_predict = 0.0\n",
    "    elif y_predict > 0.5: y_predict = 1.0\n",
    "    \n",
    "    return y_predict == y_feed\n",
    "\n",
    "def calculate_accuracy(x_dataset, y_dataset, w_val):\n",
    "    acc = 0\n",
    "    for ind, x in enumerate(x_dataset):\n",
    "        y_predict = x * w_val[1] + w_val[0]\n",
    "\n",
    "        if comparePrediction(y_dataset[ind], y_predict):\n",
    "            acc += 1\n",
    "\n",
    "    return acc / len(x_dataset) * 100\n",
    "\n",
    "print(f\"Testing accuracy {calculate_accuracy(x_test, y_test, final_w)} %\")"
   ]
  }
 ],
 "metadata": {
  "kernelspec": {
   "display_name": "Python 3",
   "language": "python",
   "name": "python3"
  },
  "language_info": {
   "codemirror_mode": {
    "name": "ipython",
    "version": 3
   },
   "file_extension": ".py",
   "mimetype": "text/x-python",
   "name": "python",
   "nbconvert_exporter": "python",
   "pygments_lexer": "ipython3",
   "version": "3.6.9"
  }
 },
 "nbformat": 4,
 "nbformat_minor": 5
}
