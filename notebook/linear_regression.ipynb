{
 "cells": [
  {
   "cell_type": "code",
   "execution_count": 1,
   "id": "e1460cdd-ac4a-496a-b716-c21573b50e99",
   "metadata": {},
   "outputs": [],
   "source": [
    "import tensorflow_core as tf\n",
    "import numpy as np\n",
    "import matplotlib.pyplot as plt"
   ]
  },
  {
   "cell_type": "code",
   "execution_count": 15,
   "id": "55dbd06c-272b-4420-b824-97e51a25e741",
   "metadata": {},
   "outputs": [
    {
     "data": {
      "text/plain": [
       "<matplotlib.collections.PathCollection at 0x7fb46429fc50>"
      ]
     },
     "execution_count": 15,
     "metadata": {},
     "output_type": "execute_result"
    },
    {
     "data": {
      "image/png": "[encoded data removed]",
      "text/plain": [
       "<Figure size 432x288 with 1 Axes>"
      ]
     },
     "metadata": {
      "needs_background": "light"
     },
     "output_type": "display_data"
    }
   ],
   "source": [
    "x_label0 = np.append(np.random.normal(5, 1, 9), 20)\n",
    "x_label1 = np.random.normal(2, 1, 10)\n",
    "xs = np.append(x_label0, x_label1)\n",
    "\n",
    "# just normal python array. not numpy\n",
    "temp = [0.] * len(x_label0) + [1.] * len(x_label1)\n",
    "\n",
    "labels = np.array(temp)\n",
    "\n",
    "plt.scatter(xs, labels)"
   ]
  },
  {
   "cell_type": "code",
   "execution_count": 16,
   "id": "60e4c4cd-494e-4190-8cf4-a0a858064d05",
   "metadata": {},
   "outputs": [
    {
     "name": "stdout",
     "output_type": "stream",
     "text": [
      "0 9.335569\n",
      "100 3.3806725\n",
      "200 3.2587237\n",
      "300 3.25619\n",
      "400 3.2561374\n",
      "500 3.2561364\n",
      "600 3.2561362\n",
      "700 3.2561364\n",
      "800 3.2561364\n",
      "900 3.2561364\n"
     ]
    },
    {
     "data": {
      "image/png": "[encoded data removed]",
      "text/plain": [
       "<Figure size 432x288 with 1 Axes>"
      ]
     },
     "metadata": {
      "needs_background": "light"
     },
     "output_type": "display_data"
    }
   ],
   "source": [
    "learning_rate = 0.001\n",
    "training_epochs = 1000\n",
    "\n",
    "X = tf.placeholder(tf.float32)\n",
    "Y = tf.placeholder(tf.float32)\n",
    "\n",
    "\n",
    "def model(X, w):\n",
    "    return tf.add(tf.multiply(w[1], tf.pow(X, 1)), tf.multiply(w[0], tf.pow(X, 0)))\n",
    "\n",
    "\n",
    "w = tf.Variable([0.0, 0.0], name=\"parameters\")\n",
    "y_model = model(X, w)\n",
    "\n",
    "cost = tf.reduce_sum(tf.square(Y - y_model))\n",
    "\n",
    "train_op = tf.train.GradientDescentOptimizer(learning_rate).minimize(cost)\n",
    "\n",
    "sess = tf.Session()\n",
    "init = tf.global_variables_initializer()\n",
    "sess.run(init)\n",
    "\n",
    "for epoch in range(training_epochs):\n",
    "    sess.run(train_op, feed_dict={X: xs, Y: labels})\n",
    "    current_cost = sess.run(cost, feed_dict={X: xs, Y: labels})\n",
    "\n",
    "    if epoch % 100 == 0:\n",
    "        print(epoch, current_cost)\n",
    "\n",
    "w_val = sess.run(w)\n",
    "sess.close()\n",
    "\n",
    "plt.scatter(xs, labels)\n",
    "plt.plot(xs, xs * w_val[1] + w_val[0], 'r')\n",
    "plt.show()\n"
   ]
  }
 ],
 "metadata": {
  "kernelspec": {
   "display_name": "Python 3",
   "language": "python",
   "name": "python3"
  },
  "language_info": {
   "codemirror_mode": {
    "name": "ipython",
    "version": 3
   },
   "file_extension": ".py",
   "mimetype": "text/x-python",
   "name": "python",
   "nbconvert_exporter": "python",
   "pygments_lexer": "ipython3",
   "version": "3.6.9"
  }
 },
 "nbformat": 4,
 "nbformat_minor": 5
}
