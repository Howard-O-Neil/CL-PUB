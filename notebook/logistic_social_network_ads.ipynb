{
 "cells": [
  {
   "cell_type": "code",
   "execution_count": 1,
   "id": "74994761-b24a-4fc9-b9d8-43223ac9d5c3",
   "metadata": {},
   "outputs": [],
   "source": [
    "import tensorflow_core as tf\n",
    "import numpy as np\n",
    "import matplotlib.pyplot as plt\n",
    "import pandas as pd\n",
    "import seaborn as sb\n",
    "import scipy as sp\n",
    "import sklearn.preprocessing as skp\n",
    "import sklearn.model_selection as skm"
   ]
  },
  {
   "cell_type": "code",
   "execution_count": 112,
   "id": "3f90f05d-4300-4fb0-b51f-72b8bbe86741",
   "metadata": {},
   "outputs": [],
   "source": [
    "social_network_ads = pd.read_csv(\"./Social_Network_Ads.csv\")\n",
    "\n",
    "x_dataset = social_network_ads.drop(\\\n",
    "    [\"Purchased\", \"Gender\", \"User ID\"], axis=1).to_numpy()\n",
    "y_dataset =  social_network_ads[\"Purchased\"].to_numpy()\n",
    "\n",
    "x_train, x_test, y_train, y_test = \\\n",
    "    skm.train_test_split(\\\n",
    "         x_dataset, \\\n",
    "         y_dataset, \\\n",
    "         random_state = 0, test_size = 0.15)\n",
    "\n",
    "scaler = skp.StandardScaler()\n",
    "scaler.fit(x_train)\n",
    "\n",
    "x_train = scaler.transform(x_train)\n",
    "x_test = scaler.transform(x_test)"
   ]
  },
  {
   "cell_type": "code",
   "execution_count": 150,
   "id": "d57e26ef-af3e-4db6-b71a-68f07b76db94",
   "metadata": {},
   "outputs": [
    {
     "data": {
      "image/png": "[encoded data removed]",
      "text/plain": [
       "<Figure size 432x288 with 1 Axes>"
      ]
     },
     "metadata": {
      "needs_background": "light"
     },
     "output_type": "display_data"
    }
   ],
   "source": [
    "cluster_0 = [] # purchased\n",
    "cluster_1 = [] # not purchased\n",
    "\n",
    "for i in range(x_train.shape[0]):\n",
    "    f = x_train[i]\n",
    "    if y_train[i] == 1: cluster_0.append(f)\n",
    "    else: cluster_1.append(f)\n",
    "\n",
    "cluster_0 = np.array(cluster_0)\n",
    "cluster_1 = np.array(cluster_1)\n",
    "\n",
    "plt.plot(cluster_0[:, 0], cluster_0[:, 1], 'g^')\n",
    "plt.plot(cluster_1[:, 0], cluster_1[:, 1], 'r^')\n",
    "plt.show()"
   ]
  },
  {
   "cell_type": "code",
   "execution_count": 114,
   "id": "f6c8e297-4153-4fbb-9658-a8a9d8685bc7",
   "metadata": {},
   "outputs": [
    {
     "data": {
      "image/png": "[encoded data removed]",
      "text/plain": [
       "<Figure size 432x288 with 1 Axes>"
      ]
     },
     "metadata": {
      "needs_background": "light"
     },
     "output_type": "display_data"
    }
   ],
   "source": [
    "cluster_0 = [] # purchased\n",
    "cluster_1 = [] # not purchased\n",
    "for i in range(x_test.shape[0]):\n",
    "    f = x_test[i]\n",
    "    if y_test[i] == 1: cluster_0.append(f)\n",
    "    else: cluster_1.append(f)\n",
    "\n",
    "cluster_0 = np.array(cluster_0)\n",
    "cluster_1 = np.array(cluster_1)\n",
    "\n",
    "plt.plot(cluster_0[:, 0], cluster_0[:, 1], 'g^')\n",
    "plt.plot(cluster_1[:, 0], cluster_1[:, 1], 'r^')\n",
    "plt.show()"
   ]
  },
  {
   "cell_type": "code",
   "execution_count": 115,
   "id": "1d4fc711-03d1-404b-a4ae-419094addad7",
   "metadata": {},
   "outputs": [],
   "source": [
    "X1 = tf.placeholder(tf.float32, shape=(None,), name=\"x1\")\n",
    "X2 = tf.placeholder(tf.float32, shape=(None,), name=\"x2\")\n",
    "Y = tf.placeholder(tf.float32, shape=(None,), name=\"y\")\n",
    "reg_lambda = tf.placeholder(tf.float32, name=\"reg\")\n",
    "\n",
    "w = tf.Variable([0., 0., 0.], name=\"w\", trainable=True)\n",
    "\n",
    "def model(X2, X1, w):  # sigmoid model\n",
    "    return tf.div(\n",
    "        1.,\n",
    "        tf.add(1., tf.exp(-1 * (w[2] * X2 + w[1] * X1 + w[0])),\n",
    "    ))\n",
    "\n",
    "y_model = model(X2, X1, w)"
   ]
  },
  {
   "cell_type": "code",
   "execution_count": 116,
   "id": "11735c20-431c-467d-b103-f8a4b605f2af",
   "metadata": {},
   "outputs": [],
   "source": [
    "learning_rate = 0.001\n",
    "training_epochs = 1000\n",
    "\n",
    "cost = tf.add(\n",
    "   tf.reduce_mean(\\\n",
    "       tf.subtract(\\\n",
    "           -1 * Y * tf.log(y_model), \\\n",
    "           (1 - Y) * tf.log(1 - y_model)\n",
    "       )\n",
    "   ),\n",
    "   tf.multiply(reg_lambda, tf.reduce_sum(tf.square(w))),\n",
    ")\n",
    "train_op = tf.train.GradientDescentOptimizer\\\n",
    "   (learning_rate).minimize(cost)"
   ]
  },
  {
   "cell_type": "code",
   "execution_count": 117,
   "id": "5df00e3e-0f84-46d8-bfd7-e8a52f953de4",
   "metadata": {},
   "outputs": [
    {
     "name": "stdout",
     "output_type": "stream",
     "text": [
      "0.5558815\n",
      "[-0.10945873  0.25383615  0.14760572]\n",
      "0.4763408\n",
      "[-0.19323534  0.44472915  0.25460604]\n",
      "0.4330765\n",
      "[-0.25567186  0.58509606  0.33075714]\n",
      "0.4127099\n",
      "[-0.30027536  0.6843375   0.38298425]\n",
      "0.40673333\n",
      "[-0.32987854  0.7495755   0.41617158]\n"
     ]
    }
   ],
   "source": [
    "min_cost = x_train.shape[1]\n",
    "final_w = np.array([0.0, 0.0, 0.0])\n",
    "\n",
    "sess = tf.Session()\n",
    "init = tf.global_variables_initializer()\n",
    "sess.run(init)\n",
    "\n",
    "for lambda_val in np.linspace(0, 1, 100):\n",
    "    for epoch in range(training_epochs):\n",
    "        sess.run(train_op, \\\n",
    "             feed_dict={X1: x_train[:, 0],\\\n",
    "                        X2: x_train[:, 1],\\\n",
    "                        Y: y_train,\\\n",
    "                       reg_lambda: lambda_val})\n",
    "\n",
    "    testing_cost = sess.run(cost,\\\n",
    "             feed_dict={X1: x_test[:, 0],\\\n",
    "                        X2: x_test[:, 1],\\\n",
    "                        Y: y_test,\\\n",
    "                        reg_lambda: lambda_val})\n",
    "    \n",
    "    if testing_cost <= min_cost:\n",
    "        min_cost = testing_cost\n",
    "        final_w = sess.run(w)\n",
    "        \n",
    "        print(min_cost)\n",
    "        print(final_w)\n",
    "\n",
    "    w.assign([0.] * 3) # reset parameters\n",
    "\n",
    "# sess.close()"
   ]
  },
  {
   "cell_type": "code",
   "execution_count": 128,
   "id": "7300b284-71cd-46f7-88b4-8485b2319c39",
   "metadata": {},
   "outputs": [],
   "source": [
    "from sklearn.metrics import confusion_matrix\n",
    "\n",
    "def floor_t(arr):\n",
    "    for i, v in enumerate(arr):\n",
    "        if v <= 0.5: arr[i] = 0\n",
    "        else: arr[i] = 1        \n",
    "    return arr\n",
    "\n",
    "def make_prediction(x2, x1, w):\n",
    "    return floor_t(1 / \\\n",
    "       (1. + \\\n",
    "        np.exp(-1 * (x2 * w[2] + x1 * w[1] + w[0]))))"
   ]
  },
  {
   "cell_type": "code",
   "execution_count": 143,
   "id": "0a573fde-6684-4e9a-ae97-308133cfe054",
   "metadata": {},
   "outputs": [
    {
     "data": {
      "image/png": "[encoded data removed]",
      "text/plain": [
       "<Figure size 432x288 with 2 Axes>"
      ]
     },
     "metadata": {
      "needs_background": "light"
     },
     "output_type": "display_data"
    }
   ],
   "source": [
    "cm = confusion_matrix(y_train, \\\n",
    "    make_prediction(x_train[:, 1], x_train[:, 0], final_w))\n",
    "sb.heatmap(cm, annot=True, fmt='g')\n",
    "plt.show()"
   ]
  },
  {
   "cell_type": "code",
   "execution_count": 142,
   "id": "7b96c549-4d8c-484b-a7b2-0d26762fc766",
   "metadata": {},
   "outputs": [
    {
     "data": {
      "image/png": "[encoded data removed]",
      "text/plain": [
       "<Figure size 432x288 with 2 Axes>"
      ]
     },
     "metadata": {
      "needs_background": "light"
     },
     "output_type": "display_data"
    }
   ],
   "source": [
    "cm = confusion_matrix(y_test, \\\n",
    "    make_prediction(x_test[:, 1], x_test[:, 0], final_w))\n",
    "sb.heatmap(cm, annot=True, fmt='g')\n",
    "plt.show()"
   ]
  }
 ],
 "metadata": {
  "kernelspec": {
   "display_name": "Python 3",
   "language": "python",
   "name": "python3"
  },
  "language_info": {
   "codemirror_mode": {
    "name": "ipython",
    "version": 3
   },
   "file_extension": ".py",
   "mimetype": "text/x-python",
   "name": "python",
   "nbconvert_exporter": "python",
   "pygments_lexer": "ipython3",
   "version": "3.6.9"
  }
 },
 "nbformat": 4,
 "nbformat_minor": 5
}
