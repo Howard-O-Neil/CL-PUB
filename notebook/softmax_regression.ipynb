{
 "cells": [
  {
   "cell_type": "code",
   "execution_count": 1,
   "id": "40928024-d485-4c41-a1c4-33e474735ed7",
   "metadata": {},
   "outputs": [],
   "source": [
    "import tensorflow_core as tf\n",
    "import numpy as np\n",
    "import matplotlib.pyplot as plt"
   ]
  },
  {
   "cell_type": "code",
   "execution_count": 2,
   "id": "a98378e6-dd75-4038-9422-14d046ec1f69",
   "metadata": {},
   "outputs": [
    {
     "data": {
      "text/plain": [
       "<matplotlib.collections.PathCollection at 0x7f6c07fe3940>"
      ]
     },
     "execution_count": 2,
     "metadata": {},
     "output_type": "execute_result"
    },
    {
     "data": {
      "image/png": "[encoded data removed]",
      "text/plain": [
       "<Figure size 432x288 with 1 Axes>"
      ]
     },
     "metadata": {
      "needs_background": "light"
     },
     "output_type": "display_data"
    }
   ],
   "source": [
    "# generate point near (1, 1)\n",
    "x1_label0 = np.random.normal(1, 1, (100, 1))\n",
    "x2_label0 = np.random.normal(1, 1, (100, 1))\n",
    "\n",
    "# generate point near (5, 4)\n",
    "x1_label1 = np.random.normal(5, 1, (100, 1))\n",
    "x2_label1 = np.random.normal(4, 1, (100, 1))\n",
    "\n",
    "# generate point near (1, 1)\n",
    "x1_label2 = np.random.normal(8, 1, (100, 1))\n",
    "x2_label2 = np.random.normal(0, 1, (100, 1))\n",
    "\n",
    "# show cluster\n",
    "plt.scatter(x1_label0, x2_label0, c='r', marker='o', s=60)\n",
    "plt.scatter(x1_label1, x2_label1, c='g', marker='x', s=60)\n",
    "plt.scatter(x1_label2, x2_label2, c='b', marker='+', s=60)"
   ]
  },
  {
   "cell_type": "code",
   "execution_count": 3,
   "id": "d7a9aae3-af96-4a5e-b63d-490968447e95",
   "metadata": {},
   "outputs": [],
   "source": [
    "xs_label0 = np.hstack((x1_label0, x2_label0))\n",
    "xs_label1 = np.hstack((x1_label1, x2_label1))\n",
    "xs_label2 = np.hstack((x1_label2, x2_label2))\n",
    "xs = np.vstack((xs_label0, xs_label1, xs_label2))\n",
    "\n",
    "# define classification\n",
    "# label0 = [1, 0, 0]\n",
    "# label1 = [0, 1, 0]\n",
    "# label2 = [0, 0, 1]\n",
    "labels = np.matrix(\n",
    "    [[1., 0., 0.]] * len(x1_label0) +\n",
    "    [[0., 1., 0.]] * len(x1_label1) +\n",
    "    [[0., 0., 1.]] * len(x1_label2)\n",
    ")\n",
    "\n",
    "# start shuffle data\n",
    "arr = np.arange(xs.shape[0]) # work just like linespace\n",
    "np.random.shuffle(arr)\n",
    "\n",
    "xs = xs[arr]\n",
    "labels = labels[arr]\n",
    "\n",
    "# create test dataset\n",
    "test_x1_label0 = np.random.normal(1, 1, (10, 1))\n",
    "test_x2_label0 = np.random.normal(1, 1, (10, 1))\n",
    "test_x1_label1 = np.random.normal(5, 1, (10, 1))\n",
    "test_x2_label1 = np.random.normal(4, 1, (10, 1))\n",
    "test_x1_label2 = np.random.normal(8, 1, (10, 1))\n",
    "test_x2_label2 = np.random.normal(0, 1, (10, 1))\n",
    "test_xs_label0 = np.hstack((test_x1_label0, test_x2_label0))\n",
    "test_xs_label1 = np.hstack((test_x1_label1, test_x2_label1))\n",
    "test_xs_label2 = np.hstack((test_x1_label2, test_x2_label2))\n",
    "test_xs = np.vstack((test_xs_label0, test_xs_label1, test_xs_label2))\n",
    "test_labels = np.matrix(\n",
    "    [[1., 0., 0.]] * len(test_x1_label0) +\n",
    "    [[0., 1., 0.]] * len(test_x1_label1) +\n",
    "    [[0., 0., 1.]] * len(test_x1_label2)\n",
    ")"
   ]
  },
  {
   "cell_type": "code",
   "execution_count": 4,
   "id": "e2c5ddb7-2673-417e-8a03-fa56976ce3d5",
   "metadata": {},
   "outputs": [
    {
     "name": "stdout",
     "output_type": "stream",
     "text": [
      "Train size   = 300\n",
      "Num features = 2\n"
     ]
    }
   ],
   "source": [
    "# num_features = number of dimension\n",
    "# train size = training dataset size\n",
    "train_size, num_features = xs.shape\n",
    "print(f\"Train size   = {train_size}\")\n",
    "print(f\"Num features = {num_features}\")"
   ]
  },
  {
   "cell_type": "code",
   "execution_count": 5,
   "id": "030aed91-dfcb-4c2e-bfeb-b9dc0b318344",
   "metadata": {},
   "outputs": [
    {
     "name": "stdout",
     "output_type": "stream",
     "text": [
      "W Val = [[-2.6603618   0.5529599   2.107325  ]\n",
      " [-0.09465601  1.757847   -1.6632107 ]]\n",
      "b Val = [10.145043  -3.4290898 -6.7159796]\n",
      "accuracy 1.0\n",
      "[ True  True  True  True  True  True  True  True  True  True  True  True\n",
      "  True  True  True  True  True  True  True  True  True  True  True  True\n",
      "  True  True  True  True  True  True]\n",
      "[1]\n"
     ]
    }
   ],
   "source": [
    "learning_rate = 0.01\n",
    "training_epochs = 1000\n",
    "num_labels = 3\n",
    "batch_size = 100\n",
    "\n",
    "X = tf.placeholder(\"float\", shape=[None, num_features])\n",
    "Y = tf.placeholder(\"float\", shape=[None, num_labels])\n",
    "\n",
    "W = tf.Variable(tf.zeros([num_features, num_labels]))\n",
    "b = tf.Variable(tf.zeros([num_labels]))\n",
    "\n",
    "def model(X, W, b):\n",
    "    reduce_dimension = 1\n",
    "    logits = tf.add(tf.matmul(X, W), b)\n",
    "    sum_logits = tf.matmul(\n",
    "        tf.expand_dims(tf.reduce_sum(tf.exp(logits), reduce_dimension), reduce_dimension),\n",
    "        tf.ones([reduce_dimension, num_labels])\n",
    "    )\n",
    "    return tf.divide(tf.exp(logits), sum_logits)\n",
    "\n",
    "y_model = model(X, W, b)\n",
    "\n",
    "cost = -tf.reduce_sum(Y * tf.log(y_model))\n",
    "train_op = tf.train.GradientDescentOptimizer(learning_rate).minimize(cost)\n",
    "\n",
    "correct_prediction = tf.equal(tf.argmax(y_model, 1), tf.argmax(Y, 1))\n",
    "accuracy = tf.reduce_mean(tf.cast(correct_prediction, \"float\"))\n",
    "\n",
    "sess = tf.Session()\n",
    "init = tf.global_variables_initializer()\n",
    "sess.run(init)\n",
    "\n",
    "# calculate total number of batch, feed a single batch per train\n",
    "total_batch = training_epochs * train_size // batch_size\n",
    "for step in range(total_batch):\n",
    "    offset = (step * batch_size) % train_size\n",
    "    batch_xs = xs[offset:(offset + batch_size)]\n",
    "    batch_labels = labels[offset:(offset + batch_size)]\n",
    "    err, _ = sess.run([cost, train_op], feed_dict={X: batch_xs, Y: batch_labels})\n",
    "    # print(step, err)\n",
    "\n",
    "W_val = sess.run(W)\n",
    "print(f\"W Val = {W_val}\")\n",
    "b_val = sess.run(b)\n",
    "print(f\"b Val = {b_val}\")\n",
    "\n",
    "print(\"accuracy\", sess.run(accuracy, feed_dict={X: test_xs, Y: test_labels}))\n",
    "print(sess.run(correct_prediction, feed_dict={X: test_xs, Y: test_labels}))\n",
    "\n",
    "print(sess.run(tf.argmax(y_model, 1), feed_dict={X: [[5, 4]]}))"
   ]
  },
  {
   "cell_type": "code",
   "execution_count": null,
   "id": "e26bdc93-f11b-4a18-ac67-82a3ab0555c6",
   "metadata": {},
   "outputs": [],
   "source": []
  }
 ],
 "metadata": {
  "kernelspec": {
   "display_name": "Python 3",
   "language": "python",
   "name": "python3"
  },
  "language_info": {
   "codemirror_mode": {
    "name": "ipython",
    "version": 3
   },
   "file_extension": ".py",
   "mimetype": "text/x-python",
   "name": "python",
   "nbconvert_exporter": "python",
   "pygments_lexer": "ipython3",
   "version": "3.6.9"
  }
 },
 "nbformat": 4,
 "nbformat_minor": 5
}
