{
 "cells": [
  {
   "cell_type": "code",
   "execution_count": 1,
   "id": "a4ccfd58-85c6-4abc-b571-1f01c3c76194",
   "metadata": {},
   "outputs": [],
   "source": [
    "import tensorflow_core as tf\n",
    "import numpy as np\n",
    "import matplotlib.pyplot as plt"
   ]
  },
  {
   "cell_type": "code",
   "execution_count": 2,
   "id": "77a784c2-e249-4e07-9d7e-21532a66d7cd",
   "metadata": {},
   "outputs": [
    {
     "data": {
      "text/plain": [
       "<matplotlib.collections.PathCollection at 0x7f86c20aba90>"
      ]
     },
     "execution_count": 2,
     "metadata": {},
     "output_type": "execute_result"
    },
    {
     "data": {
      "image/png": "[encoded data removed]",
      "text/plain": [
       "<Figure size 432x288 with 1 Axes>"
      ]
     },
     "metadata": {
      "needs_background": "light"
     },
     "output_type": "display_data"
    }
   ],
   "source": [
    "learning_rate = 0.01\n",
    "training_epochs = 1000\n",
    "\n",
    "def sigmoid(x): # helper  calculate sigmoid\n",
    "    return 1. / (1. + np.exp(-x))\n",
    "\n",
    "x1 = np.random.normal(-4, 2, 1000)\n",
    "x2 = np.random.normal(4, 2, 1000)\n",
    "xs = np.append(x1, x2)\n",
    "ys = np.array([0.] * len(x1) + [1.] * len(x2))\n",
    "\n",
    "plt.scatter(xs, ys)"
   ]
  },
  {
   "cell_type": "code",
   "execution_count": 3,
   "id": "a2b4a20a-4850-40b6-abb1-2f776f05580f",
   "metadata": {},
   "outputs": [
    {
     "name": "stdout",
     "output_type": "stream",
     "text": [
      "WARNING:tensorflow:From <ipython-input-3-a26d8f59f433>:7: div (from tensorflow.python.ops.math_ops) is deprecated and will be removed in a future version.\n",
      "Instructions for updating:\n",
      "Deprecated in favor of operator or tf.math.divide.\n",
      "===== DONE TRAINING =====\n"
     ]
    }
   ],
   "source": [
    "X = tf.placeholder(tf.float32, shape=(None), name=\"x\")\n",
    "Y = tf.placeholder(tf.float32, shape=(None), name=\"y\")\n",
    "\n",
    "def model(X, w):  # sigmoid model\n",
    "    return tf.div(\n",
    "        1.,\n",
    "        tf.add(1., tf.exp(-1 * (X * w[1]) + w[0])),\n",
    "    )\n",
    "\n",
    "w = tf.Variable([0., 0.], name=\"parameter\", trainable=True)\n",
    "y_model = model(X, w)\n",
    "\n",
    "cost = tf.reduce_mean(-Y * tf.log(y_model) - (1 - Y) * tf.log(1 - y_model))\n",
    "train_op = tf.train.GradientDescentOptimizer(learning_rate).minimize(cost)\n",
    "\n",
    "sess = tf.Session()\n",
    "init = tf.global_variables_initializer()\n",
    "sess.run(init)\n",
    "\n",
    "prev_err = 0\n",
    "for epoch in range(training_epochs):\n",
    "    err, _ = sess.run([cost, train_op], feed_dict={X: xs, Y: ys})\n",
    "\n",
    "    if abs(prev_err - err) < 0.0001: \n",
    "        break\n",
    "    prev_err = err\n",
    "\n",
    "w_val = sess.run(w)\n",
    "\n",
    "sess.close()\n",
    "\n",
    "print(\"===== DONE TRAINING =====\")"
   ]
  },
  {
   "cell_type": "code",
   "execution_count": 4,
   "id": "1f0bc5a2-42b4-4c52-92a4-1cec66ab181e",
   "metadata": {},
   "outputs": [
    {
     "data": {
      "image/png": "[encoded data removed]",
      "text/plain": [
       "<Figure size 432x288 with 1 Axes>"
      ]
     },
     "metadata": {
      "needs_background": "light"
     },
     "output_type": "display_data"
    }
   ],
   "source": [
    "plt.scatter(xs, ys)\n",
    "plt.plot(xs, sigmoid((xs * w_val[1]) + w_val[0]), 'r^')\n",
    "plt.show()"
   ]
  }
 ],
 "metadata": {
  "kernelspec": {
   "display_name": "Python 3",
   "language": "python",
   "name": "python3"
  },
  "language_info": {
   "codemirror_mode": {
    "name": "ipython",
    "version": 3
   },
   "file_extension": ".py",
   "mimetype": "text/x-python",
   "name": "python",
   "nbconvert_exporter": "python",
   "pygments_lexer": "ipython3",
   "version": "3.6.9"
  }
 },
 "nbformat": 4,
 "nbformat_minor": 5
}
